{
 "cells": [
  {
   "cell_type": "markdown",
   "metadata": {},
   "source": [
    "# Read up on data wrangling with seaborn & Data visualization\n",
    "M.L and algorithms- Regression problems\n",
    "Classification problems\n"
   ]
  },
  {
   "cell_type": "markdown",
   "metadata": {},
   "source": [
    "# Data science pipeline\n",
    "\n",
    "1)Data collection\n",
    "2)Data cleaning\n",
    "3)Exploratory Data Analysis\n",
    "4)Feature Engineering\n",
    "5)Algorithm selection\n",
    "6)Model Training: Evaluation and Prediction\n",
    "\n"
   ]
  },
  {
   "cell_type": "markdown",
   "metadata": {},
   "source": [
    "# Types of machine learning\n",
    "###### Supervised learning: \n",
    "It uses a pattern to give youn a known outcome\n",
    "\n",
    "###### Unsupervised learning:\n",
    "is trained to give an output without a specific target outcome\n",
    "\n",
    "\n",
    "# Types of algorithms\n",
    "Regression "
   ]
  },
  {
   "cell_type": "markdown",
   "metadata": {},
   "source": [
    "# Types of datasets\n",
    "\n",
    "Training set\n",
    "Test set\n",
    "Hold out set\n",
    "\n",
    "Your training set should be larger than your test set\n",
    "\n",
    "x=training data \n",
    "y=target data"
   ]
  }
 ],
 "metadata": {
  "kernelspec": {
   "display_name": "Python 3",
   "language": "python",
   "name": "python3"
  },
  "language_info": {
   "codemirror_mode": {
    "name": "ipython",
    "version": 3
   },
   "file_extension": ".py",
   "mimetype": "text/x-python",
   "name": "python",
   "nbconvert_exporter": "python",
   "pygments_lexer": "ipython3",
   "version": "3.7.1"
  }
 },
 "nbformat": 4,
 "nbformat_minor": 2
}
