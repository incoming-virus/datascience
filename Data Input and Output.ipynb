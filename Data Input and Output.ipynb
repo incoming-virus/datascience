{
 "cells": [
  {
   "cell_type": "code",
   "execution_count": 1,
   "metadata": {},
   "outputs": [
    {
     "data": {
      "text/plain": [
       "['.ipynb_checkpoints',\n",
       " 'Anaconda3-5.1.0-Windows-x86.exe',\n",
       " 'Anaconda3-5.1.0-Windows-x86_64.exe',\n",
       " 'Books to Read',\n",
       " 'example',\n",
       " 'Excel_Sample.xlsx',\n",
       " 'EXERCISES',\n",
       " 'Introduction.ipynb',\n",
       " 'multi_index_example',\n",
       " 'numpy.ipynb',\n",
       " 'Pandas.ipynb',\n",
       " 'Python Class Coven labs.txt',\n",
       " 'Python Crash Course Exercises solved.ipynb',\n",
       " 'Python Crash Course Exercises unsolved.ipynb',\n",
       " 'PYTHON Projects UDACITY',\n",
       " 'pythonIntroduction.ipynb',\n",
       " 'Questions on Numpy.ipynb',\n",
       " 'Untitled.ipynb']"
      ]
     },
     "execution_count": 1,
     "metadata": {},
     "output_type": "execute_result"
    }
   ],
   "source": [
    "import os\n",
    "os.listdir()   #This "
   ]
  },
  {
   "cell_type": "code",
   "execution_count": 2,
   "metadata": {},
   "outputs": [],
   "source": [
    "import pandas as pd"
   ]
  },
  {
   "cell_type": "code",
   "execution_count": 6,
   "metadata": {},
   "outputs": [
    {
     "data": {
      "text/html": [
       "<div>\n",
       "<style scoped>\n",
       "    .dataframe tbody tr th:only-of-type {\n",
       "        vertical-align: middle;\n",
       "    }\n",
       "\n",
       "    .dataframe tbody tr th {\n",
       "        vertical-align: top;\n",
       "    }\n",
       "\n",
       "    .dataframe thead th {\n",
       "        text-align: right;\n",
       "    }\n",
       "</style>\n",
       "<table border=\"1\" class=\"dataframe\">\n",
       "  <thead>\n",
       "    <tr style=\"text-align: right;\">\n",
       "      <th></th>\n",
       "      <th>a</th>\n",
       "      <th>b</th>\n",
       "      <th>c</th>\n",
       "      <th>d</th>\n",
       "      <th>e</th>\n",
       "    </tr>\n",
       "  </thead>\n",
       "  <tbody>\n",
       "    <tr>\n",
       "      <th>0</th>\n",
       "      <td>0</td>\n",
       "      <td>1</td>\n",
       "      <td>2</td>\n",
       "      <td>3</td>\n",
       "      <td>5.0</td>\n",
       "    </tr>\n",
       "    <tr>\n",
       "      <th>1</th>\n",
       "      <td>4</td>\n",
       "      <td>5</td>\n",
       "      <td>6</td>\n",
       "      <td>7</td>\n",
       "      <td>5.0</td>\n",
       "    </tr>\n",
       "    <tr>\n",
       "      <th>2</th>\n",
       "      <td>8</td>\n",
       "      <td>9</td>\n",
       "      <td>10</td>\n",
       "      <td>11</td>\n",
       "      <td>67.0</td>\n",
       "    </tr>\n",
       "    <tr>\n",
       "      <th>3</th>\n",
       "      <td>12</td>\n",
       "      <td>13</td>\n",
       "      <td>14</td>\n",
       "      <td>15</td>\n",
       "      <td>37.0</td>\n",
       "    </tr>\n",
       "  </tbody>\n",
       "</table>\n",
       "</div>"
      ],
      "text/plain": [
       "    a   b   c   d     e\n",
       "0   0   1   2   3   5.0\n",
       "1   4   5   6   7   5.0\n",
       "2   8   9  10  11  67.0\n",
       "3  12  13  14  15  37.0"
      ]
     },
     "execution_count": 6,
     "metadata": {},
     "output_type": "execute_result"
    }
   ],
   "source": [
    "pd.read_csv(\"example\")"
   ]
  },
  {
   "cell_type": "code",
   "execution_count": 10,
   "metadata": {},
   "outputs": [],
   "source": [
    "df= pd.read_csv(\"example\")"
   ]
  },
  {
   "cell_type": "code",
   "execution_count": null,
   "metadata": {},
   "outputs": [],
   "source": [
    "df.to_csv(\"My Output\",)"
   ]
  },
  {
   "cell_type": "code",
   "execution_count": 12,
   "metadata": {},
   "outputs": [
    {
     "data": {
      "text/html": [
       "<div>\n",
       "<style scoped>\n",
       "    .dataframe tbody tr th:only-of-type {\n",
       "        vertical-align: middle;\n",
       "    }\n",
       "\n",
       "    .dataframe tbody tr th {\n",
       "        vertical-align: top;\n",
       "    }\n",
       "\n",
       "    .dataframe thead th {\n",
       "        text-align: right;\n",
       "    }\n",
       "</style>\n",
       "<table border=\"1\" class=\"dataframe\">\n",
       "  <thead>\n",
       "    <tr style=\"text-align: right;\">\n",
       "      <th></th>\n",
       "      <th>first</th>\n",
       "      <th>bar</th>\n",
       "      <th>bar.1</th>\n",
       "      <th>baz</th>\n",
       "      <th>baz.1</th>\n",
       "      <th>foo</th>\n",
       "      <th>foo.1</th>\n",
       "      <th>qux</th>\n",
       "      <th>qux.1</th>\n",
       "    </tr>\n",
       "  </thead>\n",
       "  <tbody>\n",
       "    <tr>\n",
       "      <th>0</th>\n",
       "      <td>second</td>\n",
       "      <td>one</td>\n",
       "      <td>two</td>\n",
       "      <td>one</td>\n",
       "      <td>two</td>\n",
       "      <td>one</td>\n",
       "      <td>two</td>\n",
       "      <td>one</td>\n",
       "      <td>two</td>\n",
       "    </tr>\n",
       "    <tr>\n",
       "      <th>1</th>\n",
       "      <td>NaN</td>\n",
       "      <td>NaN</td>\n",
       "      <td>NaN</td>\n",
       "      <td>NaN</td>\n",
       "      <td>NaN</td>\n",
       "      <td>NaN</td>\n",
       "      <td>NaN</td>\n",
       "      <td>NaN</td>\n",
       "      <td>NaN</td>\n",
       "    </tr>\n",
       "    <tr>\n",
       "      <th>2</th>\n",
       "      <td>A</td>\n",
       "      <td>1.025984152081572</td>\n",
       "      <td>-0.1565979042889875</td>\n",
       "      <td>-0.031579143908112575</td>\n",
       "      <td>0.6498258334908454</td>\n",
       "      <td>2.154846443259472</td>\n",
       "      <td>-0.6102588558227414</td>\n",
       "      <td>-0.755325340010558</td>\n",
       "      <td>-0.34641850351854453</td>\n",
       "    </tr>\n",
       "    <tr>\n",
       "      <th>3</th>\n",
       "      <td>B</td>\n",
       "      <td>0.1470267713241236</td>\n",
       "      <td>-0.47944803904109595</td>\n",
       "      <td>0.558769406443067</td>\n",
       "      <td>1.0248102783372157</td>\n",
       "      <td>-0.925874258809907</td>\n",
       "      <td>1.8628641384939535</td>\n",
       "      <td>-1.1338171615837889</td>\n",
       "      <td>0.6104779075384634</td>\n",
       "    </tr>\n",
       "    <tr>\n",
       "      <th>4</th>\n",
       "      <td>C</td>\n",
       "      <td>0.3860303121135517</td>\n",
       "      <td>2.084018530338962</td>\n",
       "      <td>-0.37651867524923904</td>\n",
       "      <td>0.23033634359240704</td>\n",
       "      <td>0.6812092925867574</td>\n",
       "      <td>1.0351250747739213</td>\n",
       "      <td>-0.031160481493099617</td>\n",
       "      <td>1.9399323109926203</td>\n",
       "    </tr>\n",
       "  </tbody>\n",
       "</table>\n",
       "</div>"
      ],
      "text/plain": [
       "    first                 bar                 bar.1                    baz  \\\n",
       "0  second                 one                   two                    one   \n",
       "1     NaN                 NaN                   NaN                    NaN   \n",
       "2       A   1.025984152081572   -0.1565979042889875  -0.031579143908112575   \n",
       "3       B  0.1470267713241236  -0.47944803904109595      0.558769406443067   \n",
       "4       C  0.3860303121135517     2.084018530338962   -0.37651867524923904   \n",
       "\n",
       "                 baz.1                 foo                foo.1  \\\n",
       "0                  two                 one                  two   \n",
       "1                  NaN                 NaN                  NaN   \n",
       "2   0.6498258334908454   2.154846443259472  -0.6102588558227414   \n",
       "3   1.0248102783372157  -0.925874258809907   1.8628641384939535   \n",
       "4  0.23033634359240704  0.6812092925867574   1.0351250747739213   \n",
       "\n",
       "                     qux                 qux.1  \n",
       "0                    one                   two  \n",
       "1                    NaN                   NaN  \n",
       "2     -0.755325340010558  -0.34641850351854453  \n",
       "3    -1.1338171615837889    0.6104779075384634  \n",
       "4  -0.031160481493099617    1.9399323109926203  "
      ]
     },
     "execution_count": 12,
     "metadata": {},
     "output_type": "execute_result"
    }
   ],
   "source": [
    "pd.read_csv(\"multi_index_example\")"
   ]
  },
  {
   "cell_type": "code",
   "execution_count": null,
   "metadata": {},
   "outputs": [],
   "source": [
    "data = pd.read_html(\"url\") # This is to read an html file"
   ]
  },
  {
   "cell_type": "code",
   "execution_count": 9,
   "metadata": {},
   "outputs": [],
   "source": [
    "from sqlalchemy import create_engine # Data can also be imported from sqlachemy(backend created using nodejs and mongodb)"
   ]
  },
  {
   "cell_type": "code",
   "execution_count": null,
   "metadata": {},
   "outputs": [],
   "source": [
    "engine = create_engine(\"sqlite:///:memory:\")"
   ]
  },
  {
   "cell_type": "code",
   "execution_count": null,
   "metadata": {},
   "outputs": [],
   "source": [
    "df.to_sql"
   ]
  }
 ],
 "metadata": {
  "kernelspec": {
   "display_name": "Python 3",
   "language": "python",
   "name": "python3"
  },
  "language_info": {
   "codemirror_mode": {
    "name": "ipython",
    "version": 3
   },
   "file_extension": ".py",
   "mimetype": "text/x-python",
   "name": "python",
   "nbconvert_exporter": "python",
   "pygments_lexer": "ipython3",
   "version": "3.6.4"
  }
 },
 "nbformat": 4,
 "nbformat_minor": 2
}
